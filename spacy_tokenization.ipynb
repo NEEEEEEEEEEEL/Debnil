{
  "nbformat": 4,
  "nbformat_minor": 0,
  "metadata": {
    "colab": {
      "provenance": [],
      "authorship_tag": "ABX9TyMsGQ2iC+ZnE48fK9yUTl1g",
      "include_colab_link": true
    },
    "kernelspec": {
      "name": "python3",
      "display_name": "Python 3"
    },
    "language_info": {
      "name": "python"
    }
  },
  "cells": [
    {
      "cell_type": "markdown",
      "metadata": {
        "id": "view-in-github",
        "colab_type": "text"
      },
      "source": [
        "<a href=\"https://colab.research.google.com/github/NEEEEEEEEEEEL/Debnil/blob/main/spacy_tokenization.ipynb\" target=\"_parent\"><img src=\"https://colab.research.google.com/assets/colab-badge.svg\" alt=\"Open In Colab\"/></a>"
      ]
    },
    {
      "cell_type": "code",
      "execution_count": 1,
      "metadata": {
        "id": "23WmJWHNe5Q1"
      },
      "outputs": [],
      "source": [
        "import spacy"
      ]
    },
    {
      "cell_type": "code",
      "source": [
        "#nlp=spacy.blank(\"en\")\n",
        "doc=nlp(\"let's go to N.Y.!\")\n",
        "for token in doc:\n",
        "  print(token)"
      ],
      "metadata": {
        "colab": {
          "base_uri": "https://localhost:8080/"
        },
        "id": "vm9LG5Dyg9tk",
        "outputId": "ab019ce6-72c5-4348-90ab-81a99be26cc0"
      },
      "execution_count": 7,
      "outputs": [
        {
          "output_type": "stream",
          "name": "stdout",
          "text": [
            "let\n",
            "'s\n",
            "go\n",
            "to\n",
            "N.Y.\n",
            "!\n"
          ]
        }
      ]
    },
    {
      "cell_type": "code",
      "source": [
        "nlp=spacy.blank(\"en\")\n",
        "doc=nlp(\"naruto is a bitch.Itachi is the god,saved konohha.\")"
      ],
      "metadata": {
        "id": "jXm2Hs3gfBOE"
      },
      "execution_count": 4,
      "outputs": []
    },
    {
      "cell_type": "markdown",
      "source": [
        "you can print token"
      ],
      "metadata": {
        "id": "r7-ADbDtfbS4"
      }
    },
    {
      "cell_type": "code",
      "source": [
        "for token in doc:\n",
        "  print(token)"
      ],
      "metadata": {
        "colab": {
          "base_uri": "https://localhost:8080/"
        },
        "id": "B65wnB3GfT7m",
        "outputId": "5f4edab8-250f-4aa6-ec10-3f4931cee9ea"
      },
      "execution_count": 5,
      "outputs": [
        {
          "output_type": "stream",
          "name": "stdout",
          "text": [
            "naruto\n",
            "is\n",
            "a\n",
            "bitch\n",
            ".\n",
            "Itachi\n",
            "is\n",
            "the\n",
            "god\n",
            ",\n",
            "saved\n",
            "konohha\n",
            ".\n"
          ]
        }
      ]
    },
    {
      "cell_type": "code",
      "source": [
        "type(nlp)\n",
        "type(doc)\n",
        "type(token  )"
      ],
      "metadata": {
        "colab": {
          "base_uri": "https://localhost:8080/"
        },
        "id": "5Ftvarxshn6L",
        "outputId": "6d93a3b5-60cf-431a-c558-e9f685c205e0"
      },
      "execution_count": 8,
      "outputs": [
        {
          "output_type": "execute_result",
          "data": {
            "text/plain": [
              "spacy.tokens.token.Token"
            ]
          },
          "metadata": {},
          "execution_count": 8
        }
      ]
    },
    {
      "cell_type": "code",
      "source": [
        "doc=nlp(\"tony gave me five $ to buy a pen\")"
      ],
      "metadata": {
        "id": "MB_qICwYiEUE"
      },
      "execution_count": 9,
      "outputs": []
    },
    {
      "cell_type": "code",
      "source": [
        "token0=doc[0]\n",
        "token0"
      ],
      "metadata": {
        "colab": {
          "base_uri": "https://localhost:8080/"
        },
        "id": "Lg1Za-j7iLua",
        "outputId": "1fae80e6-7feb-48e7-9bd1-357be495ccac"
      },
      "execution_count": 11,
      "outputs": [
        {
          "output_type": "execute_result",
          "data": {
            "text/plain": [
              "tony"
            ]
          },
          "metadata": {},
          "execution_count": 11
        }
      ]
    },
    {
      "cell_type": "code",
      "source": [
        "token0.is_alpha  #cuz its a series of alphabets"
      ],
      "metadata": {
        "colab": {
          "base_uri": "https://localhost:8080/"
        },
        "id": "tiA-wN6hiRLJ",
        "outputId": "b22ec9ff-9306-4edc-9e1c-9b9981b03a9e"
      },
      "execution_count": 12,
      "outputs": [
        {
          "output_type": "execute_result",
          "data": {
            "text/plain": [
              "True"
            ]
          },
          "metadata": {},
          "execution_count": 12
        }
      ]
    },
    {
      "cell_type": "code",
      "source": [
        "token3=doc[3]\n",
        "token3\n",
        "token3.like_num   #cuz five is a number(its smart)"
      ],
      "metadata": {
        "colab": {
          "base_uri": "https://localhost:8080/"
        },
        "id": "PekIZIiwiXn2",
        "outputId": "b0aab4ac-4474-41f8-cc79-e18665576163"
      },
      "execution_count": 15,
      "outputs": [
        {
          "output_type": "execute_result",
          "data": {
            "text/plain": [
              "True"
            ]
          },
          "metadata": {},
          "execution_count": 15
        }
      ]
    },
    {
      "cell_type": "markdown",
      "source": [],
      "metadata": {
        "id": "WhOG6IMqirE9"
      }
    },
    {
      "cell_type": "code",
      "source": [
        "token4=doc[4]   #$\n",
        "token4\n",
        "token4.is_currency"
      ],
      "metadata": {
        "colab": {
          "base_uri": "https://localhost:8080/"
        },
        "id": "WkHwFCmSigmD",
        "outputId": "2bee7c82-21e1-484b-93f6-01d5c98e46b9"
      },
      "execution_count": 17,
      "outputs": [
        {
          "output_type": "execute_result",
          "data": {
            "text/plain": [
              "True"
            ]
          },
          "metadata": {},
          "execution_count": 17
        }
      ]
    },
    {
      "cell_type": "code",
      "source": [
        "with open(\"student.txt\") as f:\n",
        "  text=f.readlines()\n",
        "\n",
        "text"
      ],
      "metadata": {
        "colab": {
          "base_uri": "https://localhost:8080/"
        },
        "id": "lwqxIWhDi0Z7",
        "outputId": "ade94741-703c-404b-cef0-281d1af8005d"
      },
      "execution_count": 19,
      "outputs": [
        {
          "output_type": "execute_result",
          "data": {
            "text/plain": [
              "['name\\tbday\\t\\temail\\n',\n",
              " 'neel\\t20th feb.2002\\tneel@gmail.com\\n',\n",
              " 'neel\\t21th feb.2003\\tneel1@gmail.com\\n',\n",
              " 'neel\\t22th feb.2004\\tneel2@gmail.com\\n',\n",
              " 'neel\\t23th feb.2005\\tneel3@gmail.com']"
            ]
          },
          "metadata": {},
          "execution_count": 19
        }
      ]
    },
    {
      "cell_type": "markdown",
      "source": [
        "now join all these 3 into single array"
      ],
      "metadata": {
        "id": "ALG2rp7uj7wU"
      }
    },
    {
      "cell_type": "code",
      "source": [
        "text=\" \".join(text)\n",
        "text"
      ],
      "metadata": {
        "colab": {
          "base_uri": "https://localhost:8080/",
          "height": 52
        },
        "id": "u_MYwqhNj67K",
        "outputId": "42125499-68d5-4b71-85b7-223836799e76"
      },
      "execution_count": 20,
      "outputs": [
        {
          "output_type": "execute_result",
          "data": {
            "text/plain": [
              "'name\\tbday\\t\\temail\\n neel\\t20th feb.2002\\tneel@gmail.com\\n neel\\t21th feb.2003\\tneel1@gmail.com\\n neel\\t22th feb.2004\\tneel2@gmail.com\\n neel\\t23th feb.2005\\tneel3@gmail.com'"
            ],
            "application/vnd.google.colaboratory.intrinsic+json": {
              "type": "string"
            }
          },
          "metadata": {},
          "execution_count": 20
        }
      ]
    },
    {
      "cell_type": "code",
      "source": [
        "doc=nlp(text)\n",
        "for token in doc:\n",
        "  print(token)"
      ],
      "metadata": {
        "colab": {
          "base_uri": "https://localhost:8080/"
        },
        "id": "5vm_hQGckEI9",
        "outputId": "dd34ad29-9af4-46ac-8d92-809aa9bad8c4"
      },
      "execution_count": 22,
      "outputs": [
        {
          "output_type": "stream",
          "name": "stdout",
          "text": [
            "name\n",
            "\t\n",
            "bday\n",
            "\t\t\n",
            "email\n",
            "\n",
            " \n",
            "neel\n",
            "\t\n",
            "20th\n",
            "feb.2002\n",
            "\t\n",
            "neel@gmail.com\n",
            "\n",
            " \n",
            "neel\n",
            "\t\n",
            "21th\n",
            "feb.2003\n",
            "\t\n",
            "neel1@gmail.com\n",
            "\n",
            " \n",
            "neel\n",
            "\t\n",
            "22th\n",
            "feb.2004\n",
            "\t\n",
            "neel2@gmail.com\n",
            "\n",
            " \n",
            "neel\n",
            "\t\n",
            "23th\n",
            "feb.2005\n",
            "\t\n",
            "neel3@gmail.com\n"
          ]
        }
      ]
    },
    {
      "cell_type": "markdown",
      "source": [
        "now to get the email"
      ],
      "metadata": {
        "id": "93tXHmBUkcHi"
      }
    },
    {
      "cell_type": "code",
      "source": [
        "doc =nlp(text)\n",
        "for token in doc:\n",
        "  if token.like_email:\n",
        "    print(token)"
      ],
      "metadata": {
        "colab": {
          "base_uri": "https://localhost:8080/"
        },
        "id": "Y__fAIhVkM7r",
        "outputId": "c4f29569-c6c3-405e-bb4a-4653ad8fee2f"
      },
      "execution_count": 25,
      "outputs": [
        {
          "output_type": "stream",
          "name": "stdout",
          "text": [
            "neel@gmail.com\n",
            "neel1@gmail.com\n",
            "neel2@gmail.com\n",
            "neel3@gmail.com\n"
          ]
        }
      ]
    },
    {
      "cell_type": "markdown",
      "source": [
        "we can store all the emails in an array"
      ],
      "metadata": {
        "id": "0fHJPe0PksaM"
      }
    },
    {
      "cell_type": "code",
      "source": [
        "doc =nlp(text)\n",
        "emails=[]\n",
        "for token in doc:\n",
        "  if token.like_email:\n",
        "    emails.append(token)\n",
        "\n",
        "emails"
      ],
      "metadata": {
        "colab": {
          "base_uri": "https://localhost:8080/"
        },
        "id": "zAs4GvTmkvVU",
        "outputId": "35c100a7-6fa5-44df-d0b0-f543d730a33d"
      },
      "execution_count": 27,
      "outputs": [
        {
          "output_type": "execute_result",
          "data": {
            "text/plain": [
              "[neel@gmail.com, neel1@gmail.com, neel2@gmail.com, neel3@gmail.com]"
            ]
          },
          "metadata": {},
          "execution_count": 27
        }
      ]
    },
    {
      "cell_type": "code",
      "source": [
        "doc=nlp(\"gimme cheese sandwich and some fries.also a meduim coke\")\n",
        "tokens=[token.text for token in doc]   #another way of using for loop\n",
        "tokens"
      ],
      "metadata": {
        "colab": {
          "base_uri": "https://localhost:8080/"
        },
        "id": "xtINyQB7l1hV",
        "outputId": "9aa705bc-0ad2-4cbd-b370-c12847c7dd5d"
      },
      "execution_count": 28,
      "outputs": [
        {
          "output_type": "execute_result",
          "data": {
            "text/plain": [
              "['gimme',\n",
              " 'cheese',\n",
              " 'sandwich',\n",
              " 'and',\n",
              " 'some',\n",
              " 'fries.also',\n",
              " 'a',\n",
              " 'meduim',\n",
              " 'coke']"
            ]
          },
          "metadata": {},
          "execution_count": 28
        }
      ]
    },
    {
      "cell_type": "markdown",
      "source": [
        "see here gimme means give me but the model wont understand it so we have train it or code it such that it understands"
      ],
      "metadata": {
        "id": "CuXkDVZjmUcu"
      }
    },
    {
      "cell_type": "code",
      "source": [
        "from spacy.symbols import ORTH\n",
        "nlp.tokenizer.add_special_case(\"gimme\" , [\n",
        "    {ORTH: \"gim\"},\n",
        "    {ORTH: \"me\"}\n",
        "    ])\n",
        "\n",
        "doc=nlp(\"gimme cheese sandwich and some fries.also a meduim coke\")\n",
        "tokens=[token.text for token in doc]   #another way of using for loop\n",
        "tokens"
      ],
      "metadata": {
        "colab": {
          "base_uri": "https://localhost:8080/"
        },
        "id": "Nl8C59ejmGcM",
        "outputId": "d997335b-7d45-468b-a6ac-915c735034b3"
      },
      "execution_count": 31,
      "outputs": [
        {
          "output_type": "execute_result",
          "data": {
            "text/plain": [
              "['gim',\n",
              " 'me',\n",
              " 'cheese',\n",
              " 'sandwich',\n",
              " 'and',\n",
              " 'some',\n",
              " 'fries.also',\n",
              " 'a',\n",
              " 'meduim',\n",
              " 'coke']"
            ]
          },
          "metadata": {},
          "execution_count": 31
        }
      ]
    },
    {
      "cell_type": "code",
      "source": [
        "nlp.add_pipe('sentencizer')\n",
        "doc=nlp(\"I am enjying my trip.Lots of fun\")\n",
        "for sentence in doc.sents:\n",
        "  print(sentence)"
      ],
      "metadata": {
        "colab": {
          "base_uri": "https://localhost:8080/"
        },
        "id": "-M3DQtCfnpcA",
        "outputId": "089c2230-8a2d-4120-f277-84a28f7a9fdf"
      },
      "execution_count": 33,
      "outputs": [
        {
          "output_type": "stream",
          "name": "stdout",
          "text": [
            "I am enjying my trip.\n",
            "Lots of fun\n"
          ]
        }
      ]
    },
    {
      "cell_type": "code",
      "source": [
        "doc=nlp(\"gimme cheese sandwich and some fries.also a meduim coke\")\n",
        "for token in doc:\n",
        "  print(token)\n",
        "\n",
        "\n"
      ],
      "metadata": {
        "colab": {
          "base_uri": "https://localhost:8080/"
        },
        "id": "UVtdKwewoOfL",
        "outputId": "7d1430dc-5032-4152-8e93-7a0183956e9b"
      },
      "execution_count": 35,
      "outputs": [
        {
          "output_type": "stream",
          "name": "stdout",
          "text": [
            "gim\n",
            "me\n",
            "cheese\n",
            "sandwich\n",
            "and\n",
            "some\n",
            "fries.also\n",
            "a\n",
            "meduim\n",
            "coke\n"
          ]
        }
      ]
    },
    {
      "cell_type": "markdown",
      "source": [
        "excersize"
      ],
      "metadata": {
        "id": "27FdY0TopOcF"
      }
    },
    {
      "cell_type": "code",
      "source": [
        "doc=nlp('''\n",
        "Look for data to help you address the question. Governments are good\n",
        "sources because data from public research is often freely available. Good\n",
        "places to start include http://www.data.gov/, and http://www.science.\n",
        "gov/, and in the United Kingdom, http://data.gov.uk/.\n",
        "Two of my favorite data sets are the General Social Survey at http://www3.norc.org/gss+website/,\n",
        "and the European Social Survey at http://www.europeansocialsurvey.org/.\n",
        "''')\n",
        "\n",
        "for token in doc:\n",
        "  print(token)"
      ],
      "metadata": {
        "colab": {
          "base_uri": "https://localhost:8080/"
        },
        "id": "WPmeTLJppQpf",
        "outputId": "8568fdf0-95fd-4083-e7e7-34ea80c2dfec"
      },
      "execution_count": 38,
      "outputs": [
        {
          "output_type": "stream",
          "name": "stdout",
          "text": [
            "\n",
            "\n",
            "Look\n",
            "for\n",
            "data\n",
            "to\n",
            "help\n",
            "you\n",
            "address\n",
            "the\n",
            "question\n",
            ".\n",
            "Governments\n",
            "are\n",
            "good\n",
            "\n",
            "\n",
            "sources\n",
            "because\n",
            "data\n",
            "from\n",
            "public\n",
            "research\n",
            "is\n",
            "often\n",
            "freely\n",
            "available\n",
            ".\n",
            "Good\n",
            "\n",
            "\n",
            "places\n",
            "to\n",
            "start\n",
            "include\n",
            "http://www.data.gov/\n",
            ",\n",
            "and\n",
            "http://www.science\n",
            ".\n",
            "\n",
            "\n",
            "gov/\n",
            ",\n",
            "and\n",
            "in\n",
            "the\n",
            "United\n",
            "Kingdom\n",
            ",\n",
            "http://data.gov.uk/.\n",
            "\n",
            "\n",
            "Two\n",
            "of\n",
            "my\n",
            "favorite\n",
            "data\n",
            "sets\n",
            "are\n",
            "the\n",
            "General\n",
            "Social\n",
            "Survey\n",
            "at\n",
            "http://www3.norc.org/gss+website/\n",
            ",\n",
            "\n",
            "\n",
            "and\n",
            "the\n",
            "European\n",
            "Social\n",
            "Survey\n",
            "at\n",
            "http://www.europeansocialsurvey.org/.\n",
            "\n",
            "\n"
          ]
        }
      ]
    },
    {
      "cell_type": "code",
      "source": [
        "# for sentence in doc.sents:\n",
        "#   print(sentence)\n",
        "\n",
        "\n",
        "#prints all the url and save it in a array\n",
        "url=[]\n",
        "for token in doc:\n",
        "  if token.like_url:\n",
        "    url.append(token)\n",
        "url"
      ],
      "metadata": {
        "colab": {
          "base_uri": "https://localhost:8080/"
        },
        "id": "Kk7cu5-fpjIB",
        "outputId": "cdc2fb9f-e478-438d-cece-9f5c3eb8e9f4"
      },
      "execution_count": 43,
      "outputs": [
        {
          "output_type": "execute_result",
          "data": {
            "text/plain": [
              "[http://www.data.gov/,\n",
              " http://www.science,\n",
              " http://data.gov.uk/.,\n",
              " http://www3.norc.org/gss+website/,\n",
              " http://www.europeansocialsurvey.org/.]"
            ]
          },
          "metadata": {},
          "execution_count": 43
        }
      ]
    },
    {
      "cell_type": "code",
      "source": [
        "transactions = \"Tony gave two $ to Peter, Bruce gave 500 € to Steve\"\n",
        "doc = nlp(transactions)\n",
        "for token in doc:\n",
        "    if token.like_num and doc[token.i+1].is_currency:\n",
        "        print(token.text, doc[token.i+1].text)"
      ],
      "metadata": {
        "colab": {
          "base_uri": "https://localhost:8080/"
        },
        "id": "ZXKOIzOqqSWb",
        "outputId": "6bc6eb24-4803-48ec-a787-2bf339bc4850"
      },
      "execution_count": 44,
      "outputs": [
        {
          "output_type": "stream",
          "name": "stdout",
          "text": [
            "two $\n",
            "500 €\n"
          ]
        }
      ]
    }
  ]
}