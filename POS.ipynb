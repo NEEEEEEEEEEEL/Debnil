{
  "nbformat": 4,
  "nbformat_minor": 0,
  "metadata": {
    "colab": {
      "provenance": [],
      "authorship_tag": "ABX9TyN5JUr2KQAMnAcJKaCqijqt",
      "include_colab_link": true
    },
    "kernelspec": {
      "name": "python3",
      "display_name": "Python 3"
    },
    "language_info": {
      "name": "python"
    }
  },
  "cells": [
    {
      "cell_type": "markdown",
      "metadata": {
        "id": "view-in-github",
        "colab_type": "text"
      },
      "source": [
        "<a href=\"https://colab.research.google.com/github/NEEEEEEEEEEEL/Debnil/blob/main/POS.ipynb\" target=\"_parent\"><img src=\"https://colab.research.google.com/assets/colab-badge.svg\" alt=\"Open In Colab\"/></a>"
      ]
    },
    {
      "cell_type": "code",
      "execution_count": 2,
      "metadata": {
        "id": "zE9JwH-mKIhi"
      },
      "outputs": [],
      "source": [
        "import spacy"
      ]
    },
    {
      "cell_type": "code",
      "source": [
        "nlp=spacy.load(\"en_core_web_sm\")"
      ],
      "metadata": {
        "id": "Nvh1ZDR1KMdL"
      },
      "execution_count": 3,
      "outputs": []
    },
    {
      "cell_type": "code",
      "source": [
        "doc=nlp(\"elon musk is going to the moon.I love biriyani though\")\n",
        "for token in doc:\n",
        "  print(token,\"|\",token.pos_,\"|\",spacy.explain(token.pos_))  #pos=part of speech,baisc english grammar(nobody cares)"
      ],
      "metadata": {
        "colab": {
          "base_uri": "https://localhost:8080/"
        },
        "id": "W-LBEqYdKTmr",
        "outputId": "cb51d35b-0f01-4277-9c28-0969fab6bbff"
      },
      "execution_count": 7,
      "outputs": [
        {
          "output_type": "stream",
          "name": "stdout",
          "text": [
            "elon | PROPN | proper noun\n",
            "musk | PROPN | proper noun\n",
            "is | AUX | auxiliary\n",
            "going | VERB | verb\n",
            "to | ADP | adposition\n",
            "the | DET | determiner\n",
            "moon | NOUN | noun\n",
            ". | PUNCT | punctuation\n",
            "I | PRON | pronoun\n",
            "love | VERB | verb\n",
            "biriyani | PROPN | proper noun\n",
            "though | ADV | adverb\n"
          ]
        }
      ]
    },
    {
      "cell_type": "code",
      "source": [
        "earnings_text=\"\"\" Microsoft Corp. today announced the following results for the quarter ended December 31, 2023, as compared to the corresponding period of last fiscal year:\n",
        "\n",
        "·        Revenue was $62.0 billion and increased 18% (up 16% in constant currency)\n",
        "\n",
        "·        Operating income was $27.0 billion and increased 33%, and increased 25% non-GAAP (up 23% in constant currency)\n",
        "\n",
        "·        Net income was $21.9 billion and increased 33%, and increased 26% non-GAAP (up 23% in constant currency)\n",
        "\n",
        "·        Diluted earnings per share was $2.93 and increased 33%, and increased 26% non-GAAP (up 23% in constant currency)\n",
        "\"\"\""
      ],
      "metadata": {
        "id": "Mhkb3_5oMOo2"
      },
      "execution_count": 8,
      "outputs": []
    },
    {
      "cell_type": "code",
      "source": [
        "doc=nlp(earnings_text)\n",
        "filtered_tokens=[]\n",
        "for token in doc:\n",
        "  if token.pos_ not in [\"SPACE\",\"X\",\"PUNCT\"]:   #to remove all the irrelevant words/tokens\n",
        "    filtered_tokens.append(token)\n",
        "filtered_tokens"
      ],
      "metadata": {
        "colab": {
          "base_uri": "https://localhost:8080/"
        },
        "id": "29_W4qBAMUxt",
        "outputId": "0e2ec1d6-6a4a-42d8-d549-ca6a5babcfd3"
      },
      "execution_count": 17,
      "outputs": [
        {
          "output_type": "execute_result",
          "data": {
            "text/plain": [
              "[Microsoft,\n",
              " Corp.,\n",
              " today,\n",
              " announced,\n",
              " the,\n",
              " following,\n",
              " results,\n",
              " for,\n",
              " the,\n",
              " quarter,\n",
              " ended,\n",
              " December,\n",
              " 31,\n",
              " 2023,\n",
              " as,\n",
              " compared,\n",
              " to,\n",
              " the,\n",
              " corresponding,\n",
              " period,\n",
              " of,\n",
              " last,\n",
              " fiscal,\n",
              " year,\n",
              " Revenue,\n",
              " was,\n",
              " $,\n",
              " 62.0,\n",
              " billion,\n",
              " and,\n",
              " increased,\n",
              " 18,\n",
              " %,\n",
              " up,\n",
              " 16,\n",
              " %,\n",
              " in,\n",
              " constant,\n",
              " currency,\n",
              " Operating,\n",
              " income,\n",
              " was,\n",
              " $,\n",
              " 27.0,\n",
              " billion,\n",
              " and,\n",
              " increased,\n",
              " 33,\n",
              " %,\n",
              " and,\n",
              " increased,\n",
              " 25,\n",
              " %,\n",
              " non,\n",
              " -,\n",
              " GAAP,\n",
              " up,\n",
              " 23,\n",
              " %,\n",
              " in,\n",
              " constant,\n",
              " currency,\n",
              " Net,\n",
              " income,\n",
              " was,\n",
              " $,\n",
              " 21.9,\n",
              " billion,\n",
              " and,\n",
              " increased,\n",
              " 33,\n",
              " %,\n",
              " and,\n",
              " increased,\n",
              " 26,\n",
              " %,\n",
              " non,\n",
              " -,\n",
              " GAAP,\n",
              " up,\n",
              " 23,\n",
              " %,\n",
              " in,\n",
              " constant,\n",
              " currency,\n",
              " Diluted,\n",
              " earnings,\n",
              " per,\n",
              " share,\n",
              " was,\n",
              " $,\n",
              " 2.93,\n",
              " and,\n",
              " increased,\n",
              " 33,\n",
              " %,\n",
              " and,\n",
              " increased,\n",
              " 26,\n",
              " %,\n",
              " non,\n",
              " -,\n",
              " GAAP,\n",
              " up,\n",
              " 23,\n",
              " %,\n",
              " in,\n",
              " constant,\n",
              " currency]"
            ]
          },
          "metadata": {},
          "execution_count": 17
        }
      ]
    },
    {
      "cell_type": "markdown",
      "source": [
        "now to see how many nouns are present"
      ],
      "metadata": {
        "id": "PxmrbaB8OEup"
      }
    },
    {
      "cell_type": "code",
      "source": [
        "count=doc.count_by(spacy.attrs.POS)\n",
        "count"
      ],
      "metadata": {
        "colab": {
          "base_uri": "https://localhost:8080/"
        },
        "id": "rS5S2cUJMZUW",
        "outputId": "c2efead3-9621-4b43-a1a3-2c1421f689bc"
      },
      "execution_count": 19,
      "outputs": [
        {
          "output_type": "execute_result",
          "data": {
            "text/plain": [
              "{103: 10,\n",
              " 96: 3,\n",
              " 92: 34,\n",
              " 100: 13,\n",
              " 90: 3,\n",
              " 85: 8,\n",
              " 93: 20,\n",
              " 97: 18,\n",
              " 98: 1,\n",
              " 84: 8,\n",
              " 87: 4,\n",
              " 99: 4,\n",
              " 89: 7,\n",
              " 86: 4}"
            ]
          },
          "metadata": {},
          "execution_count": 19
        }
      ]
    },
    {
      "cell_type": "code",
      "source": [
        "for k,v in count.items():\n",
        "  print(doc.vocab[k].text,\"|\",v)"
      ],
      "metadata": {
        "colab": {
          "base_uri": "https://localhost:8080/"
        },
        "id": "gcTYqyLJOW5f",
        "outputId": "536fa79c-b444-469f-96e3-47713feac467"
      },
      "execution_count": 22,
      "outputs": [
        {
          "output_type": "stream",
          "name": "stdout",
          "text": [
            "SPACE | 10\n",
            "PROPN | 3\n",
            "NOUN | 34\n",
            "VERB | 13\n",
            "DET | 3\n",
            "ADP | 8\n",
            "NUM | 20\n",
            "PUNCT | 18\n",
            "SCONJ | 1\n",
            "ADJ | 8\n",
            "AUX | 4\n",
            "SYM | 4\n",
            "CCONJ | 7\n",
            "ADV | 4\n"
          ]
        }
      ]
    },
    {
      "cell_type": "code",
      "source": [],
      "metadata": {
        "id": "IWnd49p8SEjL"
      },
      "execution_count": null,
      "outputs": []
    },
    {
      "cell_type": "markdown",
      "source": [
        "excersise"
      ],
      "metadata": {
        "id": "lueNxb4XQ0yM"
      }
    },
    {
      "cell_type": "code",
      "source": [
        "new_text=\"\"\"Inflation rose again in April, continuing a climb that has pushed consumers to the brink and is threatening the economic expansion, the Bureau of Labor Statistics reported Wednesday.\n",
        "\n",
        "The consumer price index, a broad-based measure of prices for goods and services, increased 8.3% from a year ago, higher than the Dow Jones estimate for an 8.1% gain. That represented a slight ease from March’s peak but was still close to the highest level since the summer of 1982.\n",
        "\n",
        "Removing volatile food and energy prices, so-called core CPI still rose 6.2%, against expectations for a 6% gain, clouding hopes that inflation had peaked in March.\n",
        "\n",
        "The month-over-month gains also were higher than expectations — 0.3% on headline CPI versus the 0.2% estimate and a 0.6% increase for core, against the outlook for a 0.4% gain.\n",
        "\n",
        "The price gains also meant that workers continued to lose ground. Real wages adjusted for inflation decreased 0.1% on the month despite a nominal increase of 0.3% in average hourly earnings. Over the past year, real earnings have dropped 2.6% even though average hourly earnings are up 5.5%.\n",
        "\n",
        "Inflation has been the single biggest threat to a recovery that began early in the Covid pandemic and saw the economy in 2021 stage its biggest single-year growth level since 1984. Rising prices at the pump and in grocery stores have been one problem, but inflation has spread beyond those two areas into housing, auto sales and a host of other areas.\n",
        "\n",
        "Federal Reserve officials have responded to the problem with two interest rate hikes so far this year and pledges of more until inflation comes down to the central bank’s 2% goal. However, Wednesday’s data shows that the Fed has a big job ahead.\n",
        "\n",
        "Credits: cnbc.com\n",
        "\"\"\"\n",
        "\n",
        "#you can open a file by\n",
        "#with open(f=\"filename.txt\",\"r\") as f\n",
        "#new_text=f.read()\n"
      ],
      "metadata": {
        "id": "FwAly5r8Q0R8"
      },
      "execution_count": 23,
      "outputs": []
    },
    {
      "cell_type": "code",
      "source": [
        "doc=nlp(new_text)\n",
        "for token in doc:\n",
        "  if token.pos_==\"NOUN\":\n",
        "    print(token)"
      ],
      "metadata": {
        "colab": {
          "base_uri": "https://localhost:8080/"
        },
        "id": "4xAYxYtqQ6JT",
        "outputId": "00a6535f-73a7-4406-c487-de178e8d4198"
      },
      "execution_count": 28,
      "outputs": [
        {
          "output_type": "stream",
          "name": "stdout",
          "text": [
            "Inflation\n",
            "climb\n",
            "consumers\n",
            "brink\n",
            "expansion\n",
            "consumer\n",
            "price\n",
            "index\n",
            "measure\n",
            "prices\n",
            "goods\n",
            "services\n",
            "%\n",
            "year\n",
            "estimate\n",
            "%\n",
            "gain\n",
            "ease\n",
            "peak\n",
            "level\n",
            "summer\n",
            "food\n",
            "energy\n",
            "prices\n",
            "core\n",
            "%\n",
            "expectations\n",
            "%\n",
            "gain\n",
            "hopes\n",
            "inflation\n",
            "month\n",
            "month\n",
            "gains\n",
            "expectations\n",
            "%\n",
            "headline\n",
            "%\n",
            "estimate\n",
            "%\n",
            "increase\n",
            "core\n",
            "outlook\n",
            "%\n",
            "gain\n",
            "price\n",
            "gains\n",
            "workers\n",
            "ground\n",
            "wages\n",
            "inflation\n",
            "%\n",
            "month\n",
            "increase\n",
            "%\n",
            "earnings\n",
            "year\n",
            "earnings\n",
            "%\n",
            "earnings\n",
            "%\n",
            "Inflation\n",
            "threat\n",
            "recovery\n",
            "pandemic\n",
            "economy\n",
            "stage\n",
            "year\n",
            "growth\n",
            "level\n",
            "prices\n",
            "pump\n",
            "grocery\n",
            "stores\n",
            "problem\n",
            "inflation\n",
            "areas\n",
            "housing\n",
            "auto\n",
            "sales\n",
            "host\n",
            "areas\n",
            "officials\n",
            "problem\n",
            "interest\n",
            "rate\n",
            "hikes\n",
            "year\n",
            "pledges\n",
            "inflation\n",
            "bank\n",
            "%\n",
            "goal\n",
            "data\n",
            "job\n",
            "Credits\n"
          ]
        }
      ]
    },
    {
      "cell_type": "code",
      "source": [
        "doc=nlp(new_text)\n",
        "for token in doc:\n",
        "  if token.pos_==\"NUM\":\n",
        "    print(token)"
      ],
      "metadata": {
        "colab": {
          "base_uri": "https://localhost:8080/"
        },
        "id": "xLAcAuPvRk_U",
        "outputId": "be561af9-82d5-411d-e3b9-a5d1cb9086f4"
      },
      "execution_count": 29,
      "outputs": [
        {
          "output_type": "stream",
          "name": "stdout",
          "text": [
            "8.3\n",
            "8.1\n",
            "1982\n",
            "6.2\n",
            "6\n",
            "0.3\n",
            "0.2\n",
            "0.6\n",
            "0.4\n",
            "0.1\n",
            "0.3\n",
            "2.6\n",
            "5.5\n",
            "2021\n",
            "1984\n",
            "one\n",
            "two\n",
            "two\n",
            "2\n"
          ]
        }
      ]
    },
    {
      "cell_type": "code",
      "source": [
        "count=doc.count_by(spacy.attrs.POS)\n",
        "count"
      ],
      "metadata": {
        "colab": {
          "base_uri": "https://localhost:8080/"
        },
        "id": "1NpWbjshSBkZ",
        "outputId": "8d1dc8cd-c7a9-4570-9081-70c7423ed82a"
      },
      "execution_count": 30,
      "outputs": [
        {
          "output_type": "execute_result",
          "data": {
            "text/plain": [
              "{92: 96,\n",
              " 100: 27,\n",
              " 86: 15,\n",
              " 85: 39,\n",
              " 96: 16,\n",
              " 97: 32,\n",
              " 90: 34,\n",
              " 95: 4,\n",
              " 87: 13,\n",
              " 89: 10,\n",
              " 84: 23,\n",
              " 103: 8,\n",
              " 93: 19,\n",
              " 94: 4,\n",
              " 98: 8,\n",
              " 101: 1}"
            ]
          },
          "metadata": {},
          "execution_count": 30
        }
      ]
    },
    {
      "cell_type": "code",
      "source": [
        "for k,v in count.items():\n",
        "  print(doc.vocab[k].text,\"|\",v)"
      ],
      "metadata": {
        "colab": {
          "base_uri": "https://localhost:8080/"
        },
        "id": "Mbr26KaxSFv3",
        "outputId": "ee15b654-b84a-4a52-c7af-ca75e30991cd"
      },
      "execution_count": 31,
      "outputs": [
        {
          "output_type": "stream",
          "name": "stdout",
          "text": [
            "NOUN | 96\n",
            "VERB | 27\n",
            "ADV | 15\n",
            "ADP | 39\n",
            "PROPN | 16\n",
            "PUNCT | 32\n",
            "DET | 34\n",
            "PRON | 4\n",
            "AUX | 13\n",
            "CCONJ | 10\n",
            "ADJ | 23\n",
            "SPACE | 8\n",
            "NUM | 19\n",
            "PART | 4\n",
            "SCONJ | 8\n",
            "X | 1\n"
          ]
        }
      ]
    }
  ]
}