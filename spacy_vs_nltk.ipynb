{
  "nbformat": 4,
  "nbformat_minor": 0,
  "metadata": {
    "colab": {
      "provenance": [],
      "authorship_tag": "ABX9TyMvyo+jj72lAM1sznN1G6/i",
      "include_colab_link": true
    },
    "kernelspec": {
      "name": "python3",
      "display_name": "Python 3"
    },
    "language_info": {
      "name": "python"
    }
  },
  "cells": [
    {
      "cell_type": "markdown",
      "metadata": {
        "id": "view-in-github",
        "colab_type": "text"
      },
      "source": [
        "<a href=\"https://colab.research.google.com/github/NEEEEEEEEEEEL/Debnil/blob/main/spacy_vs_nltk.ipynb\" target=\"_parent\"><img src=\"https://colab.research.google.com/assets/colab-badge.svg\" alt=\"Open In Colab\"/></a>"
      ]
    },
    {
      "cell_type": "code",
      "execution_count": 1,
      "metadata": {
        "id": "PjdOea2naDBL"
      },
      "outputs": [],
      "source": [
        "import spacy"
      ]
    },
    {
      "cell_type": "markdown",
      "source": [
        "loads all the english core packages from spacy"
      ],
      "metadata": {
        "id": "gJQ-1b07a7Or"
      }
    },
    {
      "cell_type": "code",
      "source": [
        "nlp=spacy.load(\"en_core_web_sm\")"
      ],
      "metadata": {
        "colab": {
          "base_uri": "https://localhost:8080/"
        },
        "id": "fLLLuZxhate8",
        "outputId": "7220c6a4-dae7-48ab-91d4-d79cc3643d19"
      },
      "execution_count": 3,
      "outputs": [
        {
          "output_type": "execute_result",
          "data": {
            "text/plain": [
              "<spacy.lang.en.English at 0x7fbf13f19f60>"
            ]
          },
          "metadata": {},
          "execution_count": 3
        }
      ]
    },
    {
      "cell_type": "code",
      "source": [
        "doc=nlp(\"Naruto is a bitch.Itachi the god,he saved konoha\")"
      ],
      "metadata": {
        "id": "3BS-bgEra5tA"
      },
      "execution_count": 5,
      "outputs": []
    },
    {
      "cell_type": "markdown",
      "source": [
        "##to split two or more sentences use a for loop\n",
        "##sentence tokenization\n",
        "#it is oop concept,we have created an ibj called doc and it has a property called sents"
      ],
      "metadata": {
        "id": "teWbGWmpbTHB"
      }
    },
    {
      "cell_type": "code",
      "source": [
        "for sentence in doc.sents:\n",
        "  print(sentence)"
      ],
      "metadata": {
        "colab": {
          "base_uri": "https://localhost:8080/"
        },
        "id": "6uK-40I-bYjU",
        "outputId": "f99f56e3-1c76-4b76-a38a-12a88a50fee1"
      },
      "execution_count": 6,
      "outputs": [
        {
          "output_type": "stream",
          "name": "stdout",
          "text": [
            "Naruto is a bitch.\n",
            "Itachi the god,he saved konoha\n"
          ]
        }
      ]
    },
    {
      "cell_type": "markdown",
      "source": [
        "#now to split it into words\n",
        "word teknization\n"
      ],
      "metadata": {
        "id": "9TDsSYXZb3gU"
      }
    },
    {
      "cell_type": "code",
      "source": [
        "for sentence in doc.sents:\n",
        "  for words in sentence:\n",
        "    print(words)"
      ],
      "metadata": {
        "colab": {
          "base_uri": "https://localhost:8080/"
        },
        "id": "7uJ239JXb50F",
        "outputId": "e558ad04-213f-4a24-98bd-f91dce2a4853"
      },
      "execution_count": 8,
      "outputs": [
        {
          "output_type": "stream",
          "name": "stdout",
          "text": [
            "Naruto\n",
            "is\n",
            "a\n",
            "bitch\n",
            ".\n",
            "Itachi\n",
            "the\n",
            "god\n",
            ",\n",
            "he\n",
            "saved\n",
            "konoha\n"
          ]
        }
      ]
    },
    {
      "cell_type": "code",
      "source": [
        "!pip install nltk\n",
        "import nltk\n",
        "nltk.download('punkt')"
      ],
      "metadata": {
        "colab": {
          "base_uri": "https://localhost:8080/"
        },
        "id": "C9uHcgG-cXbO",
        "outputId": "7be1a4a2-ffe2-4a02-9a7a-aaaa998d1c7b"
      },
      "execution_count": 14,
      "outputs": [
        {
          "output_type": "stream",
          "name": "stdout",
          "text": [
            "Requirement already satisfied: nltk in /usr/local/lib/python3.10/dist-packages (3.8.1)\n",
            "Requirement already satisfied: click in /usr/local/lib/python3.10/dist-packages (from nltk) (8.1.7)\n",
            "Requirement already satisfied: joblib in /usr/local/lib/python3.10/dist-packages (from nltk) (1.4.0)\n",
            "Requirement already satisfied: regex>=2021.8.3 in /usr/local/lib/python3.10/dist-packages (from nltk) (2023.12.25)\n",
            "Requirement already satisfied: tqdm in /usr/local/lib/python3.10/dist-packages (from nltk) (4.66.2)\n"
          ]
        },
        {
          "output_type": "stream",
          "name": "stderr",
          "text": [
            "[nltk_data] Downloading package punkt to /root/nltk_data...\n",
            "[nltk_data]   Unzipping tokenizers/punkt.zip.\n"
          ]
        },
        {
          "output_type": "execute_result",
          "data": {
            "text/plain": [
              "True"
            ]
          },
          "metadata": {},
          "execution_count": 14
        }
      ]
    },
    {
      "cell_type": "code",
      "source": [
        "from nltk.tokenize import sent_tokenize,word_tokenize\n",
        "sent_tokenize(\"Naruto is a bitch.Itachi the god,he saved konoha\")"
      ],
      "metadata": {
        "colab": {
          "base_uri": "https://localhost:8080/"
        },
        "id": "0v6fF_JdcaSC",
        "outputId": "88d6565d-08c7-41d6-b5e6-1b8f523c7de1"
      },
      "execution_count": 16,
      "outputs": [
        {
          "output_type": "execute_result",
          "data": {
            "text/plain": [
              "['Naruto is a bitch.Itachi the god,he saved konoha']"
            ]
          },
          "metadata": {},
          "execution_count": 16
        }
      ]
    },
    {
      "cell_type": "code",
      "source": [
        "word_tokenize(\"Naruto is a bitch.Itachi the god,he saved konoha\")"
      ],
      "metadata": {
        "colab": {
          "base_uri": "https://localhost:8080/"
        },
        "id": "t3xx7QnHcgm1",
        "outputId": "afea30cc-b49a-45a6-97d4-3c38658302fd"
      },
      "execution_count": 17,
      "outputs": [
        {
          "output_type": "execute_result",
          "data": {
            "text/plain": [
              "['Naruto',\n",
              " 'is',\n",
              " 'a',\n",
              " 'bitch.Itachi',\n",
              " 'the',\n",
              " 'god',\n",
              " ',',\n",
              " 'he',\n",
              " 'saved',\n",
              " 'konoha']"
            ]
          },
          "metadata": {},
          "execution_count": 17
        }
      ]
    }
  ]
}