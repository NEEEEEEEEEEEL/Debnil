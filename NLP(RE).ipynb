{
  "nbformat": 4,
  "nbformat_minor": 0,
  "metadata": {
    "colab": {
      "provenance": [],
      "authorship_tag": "ABX9TyP6RsjFKfvjegBJ/e7SikuP",
      "include_colab_link": true
    },
    "kernelspec": {
      "name": "python3",
      "display_name": "Python 3"
    },
    "language_info": {
      "name": "python"
    }
  },
  "cells": [
    {
      "cell_type": "markdown",
      "metadata": {
        "id": "view-in-github",
        "colab_type": "text"
      },
      "source": [
        "<a href=\"https://colab.research.google.com/github/NEEEEEEEEEEEL/Debnil/blob/main/NLP(RE).ipynb\" target=\"_parent\"><img src=\"https://colab.research.google.com/assets/colab-badge.svg\" alt=\"Open In Colab\"/></a>"
      ]
    },
    {
      "cell_type": "code",
      "execution_count": 1,
      "metadata": {
        "id": "utm38GjIS9Vt"
      },
      "outputs": [],
      "source": [
        "import re"
      ]
    },
    {
      "cell_type": "markdown",
      "source": [
        "##goto regex.com to get your reg expression"
      ],
      "metadata": {
        "id": "_IU6RwOjC0DO"
      }
    },
    {
      "cell_type": "code",
      "source": [
        "chat1= 'neel:you ask a lot of questions 1234567812,abc@gmail.com'\n",
        "chat2= 'neel:you ask a lot of questions (123)-456-7891,Xyz@gmail.com'\n",
        "chat3= 'neel:you ask a lot of questions phone:1234567819,email:PQR@gmail.com'"
      ],
      "metadata": {
        "id": "e3wRBgmddA_E"
      },
      "execution_count": null,
      "outputs": []
    },
    {
      "cell_type": "markdown",
      "source": [
        "##now pass the pattern"
      ],
      "metadata": {
        "id": "CMrF1PSNDW9W"
      }
    },
    {
      "cell_type": "code",
      "source": [
        "pattern1='\\d{10}|\\(\\d{3}\\)-\\d{3}-\\d{4}'\n",
        "match1= re.findall(pattern1,chat2)\n",
        "match1\n"
      ],
      "metadata": {
        "colab": {
          "base_uri": "https://localhost:8080/"
        },
        "id": "UsznIMC0Da08",
        "outputId": "763f0990-8557-4158-da8d-a3cf68460b37"
      },
      "execution_count": 22,
      "outputs": [
        {
          "output_type": "execute_result",
          "data": {
            "text/plain": [
              "['(123)-456-7891']"
            ]
          },
          "metadata": {},
          "execution_count": 22
        }
      ]
    },
    {
      "cell_type": "code",
      "source": [
        "import re\n",
        "\n",
        "text = '''\n",
        "Follow our leader Elon musk on twitter here: https://twitter.com/elonmusk, more information\n",
        "on Tesla's products can be found at https://www.tesla.com/. Also here are leading influencers\n",
        "for tesla related news,\n",
        "https://twitter.com/teslarati\n",
        "https://twitter.com/dummy_tesla\n",
        "https://twitter.com/dummy_2_tesla\n",
        "'''\n",
        "\n",
        "twitter_handles = re.findall(\"https://twitter.com/([A-Za-z0-9_]+)\", text)\n",
        "\n",
        "print(twitter_handles)\n"
      ],
      "metadata": {
        "id": "n10uwXX8KXH_",
        "outputId": "3c0f11fc-d99d-4ba8-93f9-a3217ad9bedd",
        "colab": {
          "base_uri": "https://localhost:8080/"
        }
      },
      "execution_count": 25,
      "outputs": [
        {
          "output_type": "stream",
          "name": "stdout",
          "text": [
            "['elonmusk', 'teslarati', 'dummy_tesla', 'dummy_2_tesla']\n"
          ]
        }
      ]
    },
    {
      "cell_type": "code",
      "source": [
        "import re\n",
        "text = '''\n",
        "Concentration of Risk: Credit Risk\n",
        "Financial instruments that potentially subject us to a concentration of credit risk consist of cash, cash equivalents, marketable securities,\n",
        "restricted cash, accounts receivable, convertible note hedges, and interest rate swaps. Our cash balances are primarily invested in money market funds\n",
        "or on deposit at high credit quality financial institutions in the U.S. These deposits are typically in excess of insured limits. As of September 30, 2021\n",
        "and December 31, 2020, no entity represented 10% or more of our total accounts receivable balance. The risk of concentration for our convertible note\n",
        "hedges and interest rate swaps is mitigated by transacting with several highly-rated multinational banks.\n",
        "Concentration of Risk: Supply Risk\n",
        "We are dependent on our suppliers, including single source suppliers, and the inability of these suppliers to deliver necessary components of our\n",
        "products in a timely manner at prices, quality levels and volumes acceptable to us, or our inability to efficiently manage these components from these\n",
        "suppliers, could have a material adverse effect on our business, prospects, financial condition and operating results.\n",
        "'''\n",
        "concentration_risk=re.findall(\"Concentration of Risk:\\s*([^\\n]+)\",text)\n",
        "print(concentration_risk)"
      ],
      "metadata": {
        "id": "5LyMZ7nNKyOQ",
        "outputId": "715e936f-fda1-4633-93ea-b40da20ac9f6",
        "colab": {
          "base_uri": "https://localhost:8080/"
        }
      },
      "execution_count": 30,
      "outputs": [
        {
          "output_type": "stream",
          "name": "stdout",
          "text": [
            "['Credit Risk', 'Supply Risk']\n"
          ]
        }
      ]
    }
  ]
}